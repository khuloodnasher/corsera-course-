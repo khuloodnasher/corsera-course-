{
 "cells": [
  {
   "cell_type": "markdown",
   "metadata": {
    "toc": true
   },
   "source": [
    "<h1>Table of Contents<span class=\"tocSkip\"></span></h1>\n",
    "<div class=\"toc\"><ul class=\"toc-item\"></ul></div>"
   ]
  },
  {
   "cell_type": "code",
   "execution_count": 1,
   "metadata": {
    "ExecuteTime": {
     "end_time": "2022-05-14T02:35:36.548502Z",
     "start_time": "2022-05-14T02:35:36.545545Z"
    }
   },
   "outputs": [],
   "source": [
    "my_file=open('my_goal.txt')"
   ]
  },
  {
   "cell_type": "code",
   "execution_count": 2,
   "metadata": {
    "ExecuteTime": {
     "end_time": "2022-05-14T02:35:48.220153Z",
     "start_time": "2022-05-14T02:35:48.208538Z"
    }
   },
   "outputs": [
    {
     "data": {
      "text/plain": [
       "<_io.TextIOWrapper name='my_goal.txt' mode='r' encoding='UTF-8'>"
      ]
     },
     "execution_count": 2,
     "metadata": {},
     "output_type": "execute_result"
    }
   ],
   "source": [
    "my_file"
   ]
  },
  {
   "cell_type": "code",
   "execution_count": 4,
   "metadata": {
    "ExecuteTime": {
     "end_time": "2022-05-14T02:36:48.978919Z",
     "start_time": "2022-05-14T02:36:48.974385Z"
    },
    "scrolled": true
   },
   "outputs": [
    {
     "name": "stdout",
     "output_type": "stream",
     "text": [
      "It  has been oveer three yeaars. Honestly it haas  benn 4 years, tring to join tech jobs. This is equivalent to bachelor degree but bcause i'm not doing it through college, i couldn't manage it. I tried to learn paython through many apps and courses, i rememeber i did it through phone app, camp, flatirion, treehouse, long course hesham asem, course in udemy, more than 2 coursees in corsera these tries have been staateteed since end of 2018. i remebr i was coding over thee train, in bathroom, in waiting linee at google and i still didn't manage it becuase, i memorize it not understaanding it. it is aa tim to manage it and feel confident in python aand sql. i'm smart, reesleiaant, hard wirking but im geetting distraccted alot. it is very important to feel confident  and this yeeaaar of acheeiving confidennce. work in projects, once this course is done.\n"
     ]
    }
   ],
   "source": [
    "for line in my_file :\n",
    "    print(line)"
   ]
  },
  {
   "cell_type": "code",
   "execution_count": 9,
   "metadata": {
    "ExecuteTime": {
     "end_time": "2022-05-14T02:49:27.834511Z",
     "start_time": "2022-05-14T02:49:27.830372Z"
    }
   },
   "outputs": [
    {
     "name": "stdout",
     "output_type": "stream",
     "text": [
      "It  has been oveer \n"
     ]
    }
   ],
   "source": [
    "with open('my_goal.txt') as file_1:\n",
    "    #file_content=file_1.read()\n",
    "    print(file_1.read(19))"
   ]
  },
  {
   "cell_type": "code",
   "execution_count": 14,
   "metadata": {
    "ExecuteTime": {
     "end_time": "2022-05-14T03:46:36.869612Z",
     "start_time": "2022-05-14T03:46:36.864558Z"
    }
   },
   "outputs": [
    {
     "name": "stdout",
     "output_type": "stream",
     "text": [
      "1\n"
     ]
    }
   ],
   "source": [
    "my_file=open('my_goal.txt')\n",
    "# counting number of lines\n",
    "counting=0\n",
    "for theline in my_file:\n",
    "    counting=counting+1\n",
    "    print(counting)"
   ]
  },
  {
   "cell_type": "code",
   "execution_count": 19,
   "metadata": {
    "ExecuteTime": {
     "end_time": "2022-05-14T03:52:39.383378Z",
     "start_time": "2022-05-14T03:52:39.377530Z"
    }
   },
   "outputs": [
    {
     "name": "stdout",
     "output_type": "stream",
     "text": [
      "862\n",
      "It  has been oveer t\n",
      "hree yeaars. Honestly it haas  benn 4 years, tring to join tech jobs. This is equivalent to bachelor degree but bcause i'm not doing it through college, i couldn't manage it. I tried to learn paython through many apps and courses, i rememeber i did it through phone app, camp, flatirion, treehouse, long course hesham asem, course in udemy, more than 2 coursees in corsera these tries have been staateteed since end of 2018. i remebr i was coding over thee train, in bathroom, in waiting linee at google and i still didn't manage it becuase, i memorize it not understaanding it. it is aa tim to manage it and feel confident in python aand sql. i'm smart, reesleiaant, hard wirking but im geetting distraccted alot. it is very important to feel confident  and this yeeaaar of acheeiving confidennce. work in projects, once this course is done.\n"
     ]
    }
   ],
   "source": [
    "fhand=open('my_goal.txt')\n",
    "inp=fhand.read()\n",
    "print(len(inp))# number of charachter\n",
    " \n",
    "print(inp[:20])# printing the first 20 charachter\n",
    "print(inp[20:]) # printing charachter from 20 t0 the end\n",
    " \n"
   ]
  },
  {
   "cell_type": "code",
   "execution_count": null,
   "metadata": {},
   "outputs": [],
   "source": []
  }
 ],
 "metadata": {
  "kernelspec": {
   "display_name": "Python 3",
   "language": "python",
   "name": "python3"
  },
  "language_info": {
   "codemirror_mode": {
    "name": "ipython",
    "version": 3
   },
   "file_extension": ".py",
   "mimetype": "text/x-python",
   "name": "python",
   "nbconvert_exporter": "python",
   "pygments_lexer": "ipython3",
   "version": "3.7.6"
  },
  "toc": {
   "base_numbering": 1,
   "nav_menu": {},
   "number_sections": true,
   "sideBar": true,
   "skip_h1_title": false,
   "title_cell": "Table of Contents",
   "title_sidebar": "Contents",
   "toc_cell": true,
   "toc_position": {},
   "toc_section_display": true,
   "toc_window_display": false
  },
  "varInspector": {
   "cols": {
    "lenName": 16,
    "lenType": 16,
    "lenVar": 40
   },
   "kernels_config": {
    "python": {
     "delete_cmd_postfix": "",
     "delete_cmd_prefix": "del ",
     "library": "var_list.py",
     "varRefreshCmd": "print(var_dic_list())"
    },
    "r": {
     "delete_cmd_postfix": ") ",
     "delete_cmd_prefix": "rm(",
     "library": "var_list.r",
     "varRefreshCmd": "cat(var_dic_list()) "
    }
   },
   "types_to_exclude": [
    "module",
    "function",
    "builtin_function_or_method",
    "instance",
    "_Feature"
   ],
   "window_display": false
  }
 },
 "nbformat": 4,
 "nbformat_minor": 4
}
